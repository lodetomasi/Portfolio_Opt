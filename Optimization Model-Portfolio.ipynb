{
 "cells": [
  {
   "cell_type": "markdown",
   "metadata": {},
   "source": [
    "# Problem\n",
    "\n",
    "Let $I = \\{1, \\ldots, n\\}$a set of financial products. For every $ i \\ in I $ are given:\n",
    "- $r_i \\in\\mathbb{R}$ expected return in the next period;\n",
    "$q_i \\in\\mathbb{Z}$ equivalent value of the security in the current portfolio;<-->\n",
    "- $s_i \\in S$ type of assets;\n",
    "$\\delta_i$ maximum variation in the invested value allowed with respect to the current value<-->\n",
    "- $\\phi^{max}_k$, $\\phi^{min}_k \\in [0,1]$ maximum and minimum fraction, respectively, of budget allocable on a single product $k, \\forall k \\in S$;\n",
    "- $\\gamma^{max}_i$, $\\gamma^{min}_i \\in [0,1]$ maximum and minimum ration, respectively, of budget allocable on a single product $i, \\forall i \\in I$.\n",
    "\n",
    "\n",
    "**Product types**\n",
    "The $S$ set contains possible types, for example, $S={A,O,M}$, with $A$ equity, $O$ bond, $M$ mixed. \n",
    "\n",
    "**Risk** The risk associated with the portfolio is modeled with the *parametric model*, i.e. through an assigned $Q$ covariance matrix and a maximum risk $R_{max}$ associated with the investor profile.\n",
    "\n",
    "**Budget** Let's be $B$ the budget. This can be equal to the current $\\sum_i^n{q_i}$ value, or specified otherwise, if you decide to invest new capital or disinvest.\n",
    "Let this be the percentage countervalue of the single security, I define deltai as the maximum percentage variation.\n",
    "\n",
    "\n",
    "# Optimization model\n",
    "We define the decision variables (real)  $x_i$, $i \\in I$, representing the percentage of value to be allocated on the $i$ product. The model is as follows:\n",
    "\n",
    "\\begin{align}\n",
    "\\label{eq:obj}  \\max & \\sum_{i = 1}^n r_i x_i & \\nonumber \\\\\n",
    " \\nonumber \\mbox{s.t. } &\\\\\n",
    " & \\sum_{i \\in I} x_i \\le 1, & \\\\\n",
    "  & x^T Q x \\leq R_{max}, & \\\\\n",
    "  %& |x_i - q_i| \\le \\delta_i q_i, & i \\in I \\\\\n",
    "  & \\sum_{i:s_i = k} x_i \\ge \\phi^{min}_k, & k \\in S \\\\\n",
    "  & \\sum_{i:s_i = k} x_i \\le \\phi^{max}_k, & k \\in S \\\\\n",
    "  & x_i \\ge \\gamma^{min}_i, & i \\in I \\\\\n",
    "  & x_i \\le \\gamma^{max}_i, & i \\in I \\nonumber\n",
    "\\end{align}"
   ]
  },
  {
   "cell_type": "code",
   "execution_count": 23,
   "metadata": {},
   "outputs": [],
   "source": [
    "#import the libraries\n",
    "import pandas as pd\n",
    "import numpy as np\n",
    "import gurobipy as gb"
   ]
  },
  {
   "cell_type": "code",
   "execution_count": 24,
   "metadata": {},
   "outputs": [],
   "source": [
    "# Take a matrix x as input and returns True if x is positive semidefinite, False otherwise\n",
    "\n",
    "def is_pos_semidef(x):\n",
    "    return np.all(np.linalg.eigvals(x) >= 0)"
   ]
  },
  {
   "cell_type": "code",
   "execution_count": 25,
   "metadata": {},
   "outputs": [],
   "source": [
    "df_cov = pd.read_excel('DB_INDEX_DATA-01.xlsx', sheet_name='ALLOCATION-01-LCY-COVAR', skiprows=28, nrows=19)"
   ]
  },
  {
   "cell_type": "code",
   "execution_count": 26,
   "metadata": {},
   "outputs": [],
   "source": [
    "# Drop unnecessary columns (N.B. depends on the actual sheet shape)\n",
    "df_cov.drop(df_cov.columns[1], axis=1, inplace=True)"
   ]
  },
  {
   "cell_type": "code",
   "execution_count": 27,
   "metadata": {},
   "outputs": [],
   "source": [
    "df_cov.set_index('Index\\Index', inplace=True)"
   ]
  },
  {
   "cell_type": "code",
   "execution_count": 28,
   "metadata": {},
   "outputs": [
    {
     "data": {
      "text/plain": [
       "True"
      ]
     },
     "execution_count": 28,
     "metadata": {},
     "output_type": "execute_result"
    }
   ],
   "source": [
    "is_pos_semidef(df_cov.to_numpy())"
   ]
  },
  {
   "cell_type": "code",
   "execution_count": 29,
   "metadata": {},
   "outputs": [],
   "source": [
    "# Import the excel with the predictions\n",
    "\n",
    "df_allocation_postcumulation = pd.read_excel('prova-PREDICTED-POSTCUMULATION-ALLOCATION-01-LCY-REND.xlsx', index_col=0)"
   ]
  },
  {
   "cell_type": "code",
   "execution_count": 30,
   "metadata": {},
   "outputs": [
    {
     "name": "stdout",
     "output_type": "stream",
     "text": [
      "['LIQUIDITY mean', 'LIQUIDITY max', 'LIQUIDITY min', 'LIQUIDITY var', 'EQUITY mean', 'EQUITY max', 'EQUITY min', 'EQUITY var', 'BOND mean', 'BOND max', 'BOND min', 'BOND var']\n"
     ]
    }
   ],
   "source": [
    "# Selection of columns to exlude from the dataset\n",
    "\n",
    "matching = []\n",
    "\n",
    "for macroclass in ['LIQUIDITY','EQUITY','BOND']:\n",
    "    matching = matching + [column for column in df_allocation_postcumulation.columns.tolist() if macroclass in column]\n",
    "\n",
    "print(matching)"
   ]
  },
  {
   "cell_type": "code",
   "execution_count": 31,
   "metadata": {},
   "outputs": [],
   "source": [
    "# Drop unnecessary columns\n",
    "\n",
    "df_allocation_postcumulation.drop(columns=matching, inplace=True)"
   ]
  },
  {
   "cell_type": "code",
   "execution_count": 32,
   "metadata": {},
   "outputs": [],
   "source": [
    "# Import the excel sheet containing 'Macro-Asset class'/'index' matchings\n",
    "\n",
    "df_asset_class = pd.read_excel('DB_INDEX_DATA-01.xlsx', sheet_name='ALLOCATION-01', skiprows=[0])"
   ]
  },
  {
   "cell_type": "code",
   "execution_count": 33,
   "metadata": {},
   "outputs": [],
   "source": [
    "# Forward fill of nan values \n",
    "\n",
    "df_asset_class.fillna(method='ffill', inplace=True)"
   ]
  },
  {
   "cell_type": "code",
   "execution_count": 34,
   "metadata": {},
   "outputs": [],
   "source": [
    "# Extraction of the {Index : Macro-Asset Class} dictionary\n",
    "\n",
    "d = df_asset_class[['Macro-Asset Class','Index Id']].set_index('Index Id').transpose().to_dict('records')\n",
    "macroclasses = d[0]"
   ]
  },
  {
   "cell_type": "code",
   "execution_count": 35,
   "metadata": {},
   "outputs": [],
   "source": [
    "# Rename dataframe columns\n",
    "\n",
    "df_allocation_postcumulation.rename(dict(zip(df_allocation_postcumulation.columns,list(macroclasses.keys()))), axis='columns', inplace=True)"
   ]
  },
  {
   "cell_type": "code",
   "execution_count": 36,
   "metadata": {},
   "outputs": [],
   "source": [
    "# Rename covariance matrix columns\n",
    "\n",
    "df_cov.rename(dict(zip(df_cov.columns,list(macroclasses.keys()))), axis='columns', inplace=True)\n",
    "df_cov.rename(dict(zip(df_cov.index,list(macroclasses.keys()))), axis='index', inplace=True)"
   ]
  },
  {
   "cell_type": "code",
   "execution_count": 58,
   "metadata": {},
   "outputs": [],
   "source": [
    "# Set the confidence interval\n",
    "\n",
    "conf_interval = 2.33\n",
    "\n",
    "# Set the number of days in a trimester\n",
    "\n",
    "horizon_days = 65"
   ]
  },
  {
   "cell_type": "code",
   "execution_count": 59,
   "metadata": {},
   "outputs": [],
   "source": [
    "# Set the monetary budget to allocate\n",
    "\n",
    "monetary_budget = 10000 \n",
    "\n",
    "# Set maximum Value at Risk ([0.045 --> Conservativo] [0.095 --> Moderato] [0.25 --> Dinamico])\n",
    "\n",
    "max_VaR = 0.095\n",
    "\n",
    "# Set [min,max] bounds for each Macro-Asset Class\n",
    "\n",
    "macroAssetClass, minBudget, maxBudget = gb.multidict({\n",
    "    'Liquidity' : [0.05, 1],\n",
    "    'Bond' : [0, 1],\n",
    "    'Equity' : [0, 0.1]\n",
    "})\n",
    "\n",
    "# Set [min,max] bounds for each single asset\n",
    "\n",
    "assets, minAssetBudget, maxAssetBudget = gb.multidict({\n",
    "    'MXEM': [0, 1],\n",
    "    'MXEU': [0, 1],\n",
    "    'MXNA': [0, 1],\n",
    "    'MXEF': [0, 1],\n",
    "    'MXJP': [0, 1],\n",
    "    'MXPC': [0, 1],\n",
    "    'JPMGEMLC': [0, 1],\n",
    "    'JNUCUK': [0, 1],\n",
    "    'SBF14T': [0, 1],\n",
    "    'ER00': [0, 1],\n",
    "    'UC00': [0, 1],\n",
    "    'JNUCUS': [0, 1],\n",
    "    'C0A0': [0, 1],\n",
    "    'JPEGCOMP': [0, 1],\n",
    "    'JNUCJP': [0, 1],\n",
    "    'JC00': [0, 1],\n",
    "    'JPCAEU3M': [0, 1],\n",
    "    'JPCAGB3M': [0, 1],\n",
    "    'JPCAUS3M': [0, 1]\n",
    "})"
   ]
  },
  {
   "cell_type": "code",
   "execution_count": 60,
   "metadata": {},
   "outputs": [],
   "source": [
    "# Create the model\n",
    "\n",
    "m = gb.Model(\"Portfolio_Opt\")"
   ]
  },
  {
   "cell_type": "code",
   "execution_count": 61,
   "metadata": {},
   "outputs": [],
   "source": [
    "# Create variables\n",
    "\n",
    "x = m.addVars(list(macroclasses.keys()),\n",
    "              obj = df_allocation_postcumulation.tail(1).to_numpy().tolist()[0], \n",
    "              name = 'x'\n",
    "             )\n",
    "m.update()"
   ]
  },
  {
   "cell_type": "code",
   "execution_count": 62,
   "metadata": {},
   "outputs": [],
   "source": [
    "#Maximize function\n",
    "m.ModelSense = gb.GRB.MAXIMIZE"
   ]
  },
  {
   "cell_type": "code",
   "execution_count": 63,
   "metadata": {},
   "outputs": [],
   "source": [
    "# Add budget constraint\n",
    "\n",
    "m.addConstr(x.sum() <= 1, name='budget')\n",
    "m.update()"
   ]
  },
  {
   "cell_type": "code",
   "execution_count": 64,
   "metadata": {},
   "outputs": [],
   "source": [
    "# Add min allocable budget per macroclass constraints\n",
    "\n",
    "m.addConstrs((x.sum([k for k,v in macroclasses.items() if v == macroclass]) >= minBudget[macroclass] for macroclass in macroAssetClass), name=\"min_macroclass_budget\")\n",
    "m.update()"
   ]
  },
  {
   "cell_type": "code",
   "execution_count": 65,
   "metadata": {},
   "outputs": [],
   "source": [
    "# Add max allocable budget per macroclass constraints\n",
    "\n",
    "m.addConstrs((x.sum([k for k,v in macroclasses.items() if v == macroclass]) <= maxBudget[macroclass] for macroclass in macroAssetClass), name=\"max_macroclass_budget\")\n",
    "m.update()"
   ]
  },
  {
   "cell_type": "code",
   "execution_count": 66,
   "metadata": {},
   "outputs": [],
   "source": [
    "# Add min allocable budget for each single asset constraints\n",
    "\n",
    "m.addConstrs((x[k] >= v for k,v in minAssetBudget.items()), name=\"min_asset_budget\")\n",
    "m.update()"
   ]
  },
  {
   "cell_type": "code",
   "execution_count": 67,
   "metadata": {},
   "outputs": [],
   "source": [
    "# Add max allocable budget for each single asset constraints\n",
    "\n",
    "m.addConstrs((x[k] <= v for k,v in maxAssetBudget.items()), name=\"max_asset_budget\")\n",
    "m.update()"
   ]
  },
  {
   "cell_type": "code",
   "execution_count": 68,
   "metadata": {},
   "outputs": [],
   "source": [
    "# Compute xQ\n",
    "\n",
    "weighted_cov = {}\n",
    "for k,v in df_cov.to_dict().items():\n",
    "    weighted_cov[k] = x.prod(v) "
   ]
  },
  {
   "cell_type": "code",
   "execution_count": 69,
   "metadata": {},
   "outputs": [],
   "source": [
    "# Compute R_max\n",
    "def rmax(horizon_days, conf_interval, max_VaR):\n",
    "    r_max = (max_VaR/conf_interval)**2/horizon_days\n",
    "    return r_max\n",
    "    "
   ]
  },
  {
   "cell_type": "code",
   "execution_count": 70,
   "metadata": {},
   "outputs": [],
   "source": [
    "r_max = rmax(horizon_days, conf_interval, max_VaR)"
   ]
  },
  {
   "cell_type": "code",
   "execution_count": 71,
   "metadata": {},
   "outputs": [],
   "source": [
    "# Compute (xQ)*x'\n",
    "\n",
    "m.addQConstr(x.prod(weighted_cov) <= r_max, \"max_VaR\")\n",
    "m.update()"
   ]
  },
  {
   "cell_type": "code",
   "execution_count": 72,
   "metadata": {},
   "outputs": [],
   "source": [
    "# Write the lp file containing the model\n",
    "\n",
    "m.write('model.lp')"
   ]
  },
  {
   "cell_type": "code",
   "execution_count": 73,
   "metadata": {},
   "outputs": [
    {
     "name": "stdout",
     "output_type": "stream",
     "text": [
      "Gurobi Optimizer version 9.0.1 build v9.0.1rc0 (mac64)\n",
      "Optimize a model with 45 rows, 19 columns and 95 nonzeros\n",
      "Model fingerprint: 0x081e37e9\n",
      "Model has 1 quadratic constraint\n",
      "Coefficient statistics:\n",
      "  Matrix range     [1e+00, 1e+00]\n",
      "  QMatrix range    [1e-10, 2e-04]\n",
      "  Objective range  [4e-04, 8e-02]\n",
      "  Bounds range     [0e+00, 0e+00]\n",
      "  RHS range        [5e-02, 1e+00]\n",
      "  QRHS range       [3e-05, 3e-05]\n",
      "Presolve removed 41 rows and 0 columns\n",
      "Presolve time: 0.01s\n",
      "Presolved: 23 rows, 39 columns, 232 nonzeros\n",
      "Presolved model has 1 second-order cone constraint\n",
      "Ordering time: 0.00s\n",
      "\n",
      "Barrier statistics:\n",
      " AA' NZ     : 2.260e+02\n",
      " Factor NZ  : 2.760e+02\n",
      " Factor Ops : 4.324e+03 (less than 1 second per iteration)\n",
      " Threads    : 1\n",
      "\n",
      "                  Objective                Residual\n",
      "Iter       Primal          Dual         Primal    Dual     Compl     Time\n",
      "   0  -2.30224906e-02  9.50000000e-02  6.86e+00 1.00e-01  1.86e-02     0s\n",
      "   1   4.80884545e-03  9.30868271e-02  1.67e-01 1.10e-07  1.71e-03     0s\n",
      "   2   1.26644466e-02  4.03813433e-02  4.36e-08 2.91e-08  4.40e-04     0s\n",
      "   3   3.17769770e-02  3.79767240e-02  2.08e-09 3.20e-14  9.84e-05     0s\n",
      "   4   3.28751492e-02  3.31892345e-02  4.47e-13 8.59e-16  4.99e-06     0s\n",
      "   5   3.30514801e-02  3.30527215e-02  1.11e-16 6.94e-18  1.97e-08     0s\n",
      "   6   3.30520303e-02  3.30520322e-02  9.04e-18 3.12e-17  3.08e-11     0s\n",
      "\n",
      "Barrier solved model in 6 iterations and 0.02 seconds\n",
      "Optimal objective 3.30520303e-02\n",
      "\n"
     ]
    }
   ],
   "source": [
    "# Optimize the model\n",
    "\n",
    "m.optimize()"
   ]
  },
  {
   "cell_type": "code",
   "execution_count": 74,
   "metadata": {},
   "outputs": [],
   "source": [
    "# Get the solution\n",
    "\n",
    "solution = m.getAttr('x', x) "
   ]
  },
  {
   "cell_type": "code",
   "execution_count": 75,
   "metadata": {},
   "outputs": [
    {
     "name": "stdout",
     "output_type": "stream",
     "text": [
      "MXEM: 0.0\n",
      "MXEU: 0.0\n",
      "MXNA: 0.0\n",
      "MXEF: 0.0\n",
      "MXJP: 0.0\n",
      "MXPC: 0.0\n",
      "JPMGEMLC: 0.0\n",
      "JNUCUK: 0.0\n",
      "SBF14T: 0.0\n",
      "ER00: 0.0\n",
      "UC00: 0.0\n",
      "JNUCUS: 0.95\n",
      "C0A0: 0.0\n",
      "JPEGCOMP: 0.0\n",
      "JNUCJP: 0.0\n",
      "JC00: 0.0\n",
      "JPCAEU3M: 0.0\n",
      "JPCAGB3M: 0.0\n",
      "JPCAUS3M: 0.05\n"
     ]
    }
   ],
   "source": [
    "# Print out the percentages to allocate for each asset (rounded to the 2nd decimal)\n",
    "\n",
    "for k, v in solution.items():\n",
    "    print(k+': '+ str(round(v, 2)))"
   ]
  },
  {
   "cell_type": "code",
   "execution_count": 76,
   "metadata": {},
   "outputs": [
    {
     "data": {
      "text/plain": [
       "0.9999999997254649"
      ]
     },
     "execution_count": 76,
     "metadata": {},
     "output_type": "execute_result"
    }
   ],
   "source": [
    "# Percentage of budget to allocate according to the optimal solution\n",
    "\n",
    "sum(solution.values())"
   ]
  },
  {
   "cell_type": "code",
   "execution_count": 77,
   "metadata": {},
   "outputs": [
    {
     "name": "stdout",
     "output_type": "stream",
     "text": [
      "MXEM: 0\n",
      "MXEU: 0\n",
      "MXNA: 0\n",
      "MXEF: 0\n",
      "MXJP: 0\n",
      "MXPC: 0\n",
      "JPMGEMLC: 0\n",
      "JNUCUK: 0\n",
      "SBF14T: 0\n",
      "ER00: 0\n",
      "UC00: 0\n",
      "JNUCUS: 9500\n",
      "C0A0: 0\n",
      "JPEGCOMP: 0\n",
      "JNUCJP: 0\n",
      "JC00: 0\n",
      "JPCAEU3M: 0\n",
      "JPCAGB3M: 0\n",
      "JPCAUS3M: 500\n",
      "\n",
      "\n",
      "Total allocation: 10000\n"
     ]
    }
   ],
   "source": [
    "# Monetary amount to allocate for each asset\n",
    "\n",
    "total = 0\n",
    "for k, v in solution.items():\n",
    "    print(k+': '+ str(round(v*monetary_budget)))\n",
    "    total += round(v*monetary_budget)\n",
    "print(\"\\n\")\n",
    "print('Total allocation: ' + str(total))"
   ]
  },
  {
   "cell_type": "code",
   "execution_count": 78,
   "metadata": {},
   "outputs": [
    {
     "data": {
      "text/plain": [
       "0.0330520302722588"
      ]
     },
     "execution_count": 78,
     "metadata": {},
     "output_type": "execute_result"
    }
   ],
   "source": [
    "# Print out the value of the objective function\n",
    "\n",
    "m.getObjective().getValue()"
   ]
  },
  {
   "cell_type": "code",
   "execution_count": null,
   "metadata": {},
   "outputs": [],
   "source": []
  }
 ],
 "metadata": {
  "kernelspec": {
   "display_name": "Python 3",
   "language": "python",
   "name": "python3"
  },
  "language_info": {
   "codemirror_mode": {
    "name": "ipython",
    "version": 3
   },
   "file_extension": ".py",
   "mimetype": "text/x-python",
   "name": "python",
   "nbconvert_exporter": "python",
   "pygments_lexer": "ipython3",
   "version": "3.7.4"
  }
 },
 "nbformat": 4,
 "nbformat_minor": 2
}
